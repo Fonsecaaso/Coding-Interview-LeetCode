{
 "cells": [
  {
   "cell_type": "markdown",
   "id": "personalized-anaheim",
   "metadata": {},
   "source": [
    "# Tarefa aula 9\n",
    "\n",
    "Aluno: Mateus Fonseca Piris\n",
    "\n",
    "Esta tarefa consiste em explorar as potencialidades da ferramenta do Jupyter Notebook. Aqui neste reimplementarei os 5 primeiros exercícios da tarefa da Aula 5.\n",
    "\n",
    "As vantagens do Jupyter Notebook consistem em: \n",
    "1. Interação com o código. Visto que é possível escrever um pedaço de código e testá-lo imediatamente, tornando o processo de desenvolvimento mais ágil;\n",
    "2.Visualização de dados. É possível visualizar os dados de diferentes maneiras, como gráficos e tabelas, intercalando código e visualização;\n",
    "3. Documentação. Ao longo do processo de análise de dados em um Notebook é útil documentá-lo, sendo possível com essa ferramenta.\n",
    "\n",
    "Já uma desvantagem consiste no fato de que não é interessante usar o Notebook para pipeline de deploy, sendo necessário usar outras ferramentas para colocar código em produção."
   ]
  },
  {
   "cell_type": "code",
   "execution_count": 1,
   "id": "charming-suicide",
   "metadata": {},
   "outputs": [
    {
     "name": "stdout",
     "output_type": "stream",
     "text": [
      "EXERCICIO 1\n",
      "insira valor 1: 3\n",
      "insira valor 2: 2\n",
      "insira valor 3: 1\n",
      "min: 1\n",
      "max: 3\n",
      "media: 2.0\n"
     ]
    }
   ],
   "source": [
    "# EXERCICIO 1 \n",
    "print('EXERCICIO 1')\n",
    "list = []\n",
    "list.append(int(input(\"insira valor 1: \")))\n",
    "list.append(int(input(\"insira valor 2: \")))\n",
    "list.append(int(input(\"insira valor 3: \")))\n",
    "print(\"min:\",min(list))\n",
    "print(\"max:\",max(list))\n",
    "print(\"media:\",sum(list)/3)"
   ]
  },
  {
   "cell_type": "code",
   "execution_count": 2,
   "id": "excellent-sewing",
   "metadata": {},
   "outputs": [
    {
     "name": "stdout",
     "output_type": "stream",
     "text": [
      "EXERCICIO 2\n",
      "insira quantidade de valores: 3\n",
      "insira os valores: \n",
      "2\n",
      "5\n",
      "8\n",
      "lista invertida: \n",
      "8\n",
      "5\n",
      "2\n"
     ]
    }
   ],
   "source": [
    "# EXERCICIO 2\n",
    "print('EXERCICIO 2')\n",
    "n = int(input(\"insira quantidade de valores: \"))\n",
    "list = []\n",
    "print(\"insira os valores: \")\n",
    "for i in range(n):\n",
    "    list.append(int(input()))\n",
    "print(\"lista invertida: \")\n",
    "for i in range(n):\n",
    "    print(list[n-i-1])"
   ]
  },
  {
   "cell_type": "code",
   "execution_count": 3,
   "id": "spanish-protection",
   "metadata": {},
   "outputs": [
    {
     "name": "stdout",
     "output_type": "stream",
     "text": [
      "EXERCICIO 3\n",
      "insira quantidade de alunos: 3\n",
      "aluno  0\n",
      "insira nota 1: \n",
      "5\n",
      "insira nota 2: \n",
      "5\n",
      "insira nota 3: \n",
      "5\n",
      "insira nota 4: \n",
      "5\n",
      "aluno  1\n",
      "insira nota 1: \n",
      "10\n",
      "insira nota 2: \n",
      "10\n",
      "insira nota 3: \n",
      "8\n",
      "insira nota 4: \n",
      "8\n",
      "aluno  2\n",
      "insira nota 1: \n",
      "2\n",
      "insira nota 2: \n",
      "4\n",
      "insira nota 3: \n",
      "6\n",
      "insira nota 4: \n",
      "8\n",
      "media:  [5.0, 9.0, 5.0]\n"
     ]
    }
   ],
   "source": [
    "# EXERCICIO 3\n",
    "print('EXERCICIO 3')\n",
    "n = int(input(\"insira quantidade de alunos: \"))\n",
    "matriz = []\n",
    "\n",
    "for i in range(n):\n",
    "    print('aluno ', i)\n",
    "    temp = []\n",
    "    for j in range(4):\n",
    "        print(\"insira nota \"+str(j+1)+\": \")\n",
    "        temp.append(int(input()))\n",
    "    matriz.append(temp)\n",
    "\n",
    "media = []\n",
    "for i in range(n):\n",
    "    media.append(sum(matriz[i])/4)\n",
    "\n",
    "print(\"media: \",media)"
   ]
  },
  {
   "cell_type": "code",
   "execution_count": 4,
   "id": "transparent-polyester",
   "metadata": {},
   "outputs": [
    {
     "name": "stdout",
     "output_type": "stream",
     "text": [
      "exercicio 4\n",
      "tamanho da lista: 2\n",
      "insira os valores: \n",
      "5\n",
      "2\n",
      "[2, 5]\n"
     ]
    }
   ],
   "source": [
    "# EXERCICIO 4\n",
    "print(\"exercicio 4\")\n",
    "n = int(input(\"tamanho da lista: \"))\n",
    "list = []\n",
    "print(\"insira os valores: \")\n",
    "for i in range(n):\n",
    "    list.append(int(input()))\n",
    "list.sort()\n",
    "print(list)"
   ]
  },
  {
   "cell_type": "code",
   "execution_count": 6,
   "id": "personalized-controversy",
   "metadata": {},
   "outputs": [
    {
     "name": "stdout",
     "output_type": "stream",
     "text": [
      "exercicio 5\n",
      "tamanho da lista: 5\n",
      "insira os valores: \n",
      "5\n",
      "4\n",
      "3\n",
      "2\n",
      "1\n",
      "lista ordenada:  [1, 2, 3, 4, 5]\n"
     ]
    }
   ],
   "source": [
    "# EXERCICIO 5\n",
    "print(\"exercicio 5\")\n",
    "\n",
    "def ordena(lista):\n",
    "    if len(lista)>1:\n",
    "        meio = len(lista)//2\n",
    "        subLista1 = lista[:meio]\n",
    "        subLista2 = lista[meio:]\n",
    "        ordena(subLista1)\n",
    "        ordena(subLista2)\n",
    "\n",
    "        i = j = k = 0\n",
    "\n",
    "        while i < len(subLista1) and j < len(subLista2):\n",
    "            if subLista1[i] < subLista2[j]:\n",
    "                lista[k] = subLista1[i]\n",
    "                i+=1\n",
    "            else:\n",
    "                lista[k] = subLista2[j]\n",
    "                j+=1\n",
    "            k+=1\n",
    "        \n",
    "        while i < len(subLista1):\n",
    "            lista[k] = subLista1[i]\n",
    "            i+=1\n",
    "            k+=1\n",
    "        while j < len(subLista2):\n",
    "            lista[k] = subLista1[j]\n",
    "            j+=1\n",
    "            k+=1\n",
    "\n",
    "\n",
    "n = int(input(\"tamanho da lista: \"))\n",
    "list = []\n",
    "\n",
    "print(\"insira os valores: \")\n",
    "for i in range(n):\n",
    "    list.append(int(input()))\n",
    "\n",
    "ordena(list)\n",
    "\n",
    "print(\"lista ordenada: \",list)"
   ]
  },
  {
   "cell_type": "code",
   "execution_count": null,
   "id": "satisfactory-penguin",
   "metadata": {},
   "outputs": [],
   "source": []
  }
 ],
 "metadata": {
  "kernelspec": {
   "display_name": "Python 3",
   "language": "python",
   "name": "python3"
  },
  "language_info": {
   "codemirror_mode": {
    "name": "ipython",
    "version": 3
   },
   "file_extension": ".py",
   "mimetype": "text/x-python",
   "name": "python",
   "nbconvert_exporter": "python",
   "pygments_lexer": "ipython3",
   "version": "3.8.10"
  }
 },
 "nbformat": 4,
 "nbformat_minor": 5
}
